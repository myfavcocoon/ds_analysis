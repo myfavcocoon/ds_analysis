{
 "cells": [
  {
   "cell_type": "code",
   "execution_count": 1,
   "id": "b178c569",
   "metadata": {
    "_cell_guid": "b1076dfc-b9ad-4769-8c92-a6c4dae69d19",
    "_uuid": "8f2839f25d086af736a60e9eeb907d3b93b6e0e5",
    "execution": {
     "iopub.execute_input": "2023-12-31T03:14:04.471577Z",
     "iopub.status.busy": "2023-12-31T03:14:04.471045Z",
     "iopub.status.idle": "2023-12-31T03:14:04.492510Z",
     "shell.execute_reply": "2023-12-31T03:14:04.491411Z"
    },
    "papermill": {
     "duration": 0.033167,
     "end_time": "2023-12-31T03:14:04.494890",
     "exception": false,
     "start_time": "2023-12-31T03:14:04.461723",
     "status": "completed"
    },
    "tags": []
   },
   "outputs": [],
   "source": [
    "import numpy as np \n",
    "import pandas as pd \n",
    "import seaborn as sns\n",
    "import matplotlib.pyplot as plt"
   ]
  },
  {
   "cell_type": "markdown",
   "id": "50bd4459",
   "metadata": {
    "papermill": {
     "duration": 0.007226,
     "end_time": "2023-12-31T03:14:05.982716",
     "exception": false,
     "start_time": "2023-12-31T03:14:05.975490",
     "status": "completed"
    },
    "tags": []
   },
   "source": [
    "## Import Data"
   ]
  },
  {
   "cell_type": "code",
   "execution_count": 22,
   "id": "700667d7",
   "metadata": {
    "execution": {
     "iopub.execute_input": "2023-12-31T03:14:06.001339Z",
     "iopub.status.busy": "2023-12-31T03:14:06.000904Z",
     "iopub.status.idle": "2023-12-31T03:14:06.029080Z",
     "shell.execute_reply": "2023-12-31T03:14:06.027919Z"
    },
    "papermill": {
     "duration": 0.040147,
     "end_time": "2023-12-31T03:14:06.031782",
     "exception": false,
     "start_time": "2023-12-31T03:14:05.991635",
     "status": "completed"
    },
    "tags": []
   },
   "outputs": [],
   "source": [
    "df=pd.read_csv(\"Data Science Salary 2021 to 2023.csv\")"
   ]
  },
  {
   "cell_type": "markdown",
   "id": "bbe78b49",
   "metadata": {
    "papermill": {
     "duration": 0.007148,
     "end_time": "2023-12-31T03:14:06.048782",
     "exception": false,
     "start_time": "2023-12-31T03:14:06.041634",
     "status": "completed"
    },
    "tags": []
   },
   "source": [
    "## Data Overview"
   ]
  },
  {
   "cell_type": "code",
   "execution_count": 5,
   "id": "869fadf1",
   "metadata": {
    "execution": {
     "iopub.execute_input": "2023-12-31T03:14:06.065971Z",
     "iopub.status.busy": "2023-12-31T03:14:06.064936Z",
     "iopub.status.idle": "2023-12-31T03:14:06.086706Z",
     "shell.execute_reply": "2023-12-31T03:14:06.085579Z"
    },
    "papermill": {
     "duration": 0.032713,
     "end_time": "2023-12-31T03:14:06.088975",
     "exception": false,
     "start_time": "2023-12-31T03:14:06.056262",
     "status": "completed"
    },
    "tags": []
   },
   "outputs": [
    {
     "data": {
      "text/html": [
       "<div>\n",
       "<style scoped>\n",
       "    .dataframe tbody tr th:only-of-type {\n",
       "        vertical-align: middle;\n",
       "    }\n",
       "\n",
       "    .dataframe tbody tr th {\n",
       "        vertical-align: top;\n",
       "    }\n",
       "\n",
       "    .dataframe thead th {\n",
       "        text-align: right;\n",
       "    }\n",
       "</style>\n",
       "<table border=\"1\" class=\"dataframe\">\n",
       "  <thead>\n",
       "    <tr style=\"text-align: right;\">\n",
       "      <th></th>\n",
       "      <th>work_year</th>\n",
       "      <th>experience_level</th>\n",
       "      <th>employment_type</th>\n",
       "      <th>job_title</th>\n",
       "      <th>salary</th>\n",
       "      <th>salary_currency</th>\n",
       "      <th>salary_in_usd</th>\n",
       "      <th>company_location</th>\n",
       "      <th>company_size</th>\n",
       "    </tr>\n",
       "  </thead>\n",
       "  <tbody>\n",
       "    <tr>\n",
       "      <th>0</th>\n",
       "      <td>2023</td>\n",
       "      <td>EN</td>\n",
       "      <td>FT</td>\n",
       "      <td>Applied Scientist</td>\n",
       "      <td>213660</td>\n",
       "      <td>USD</td>\n",
       "      <td>213660</td>\n",
       "      <td>US</td>\n",
       "      <td>L</td>\n",
       "    </tr>\n",
       "    <tr>\n",
       "      <th>1</th>\n",
       "      <td>2023</td>\n",
       "      <td>EN</td>\n",
       "      <td>FT</td>\n",
       "      <td>Applied Scientist</td>\n",
       "      <td>130760</td>\n",
       "      <td>USD</td>\n",
       "      <td>130760</td>\n",
       "      <td>US</td>\n",
       "      <td>L</td>\n",
       "    </tr>\n",
       "    <tr>\n",
       "      <th>2</th>\n",
       "      <td>2023</td>\n",
       "      <td>EN</td>\n",
       "      <td>FT</td>\n",
       "      <td>Data Quality Analyst</td>\n",
       "      <td>100000</td>\n",
       "      <td>USD</td>\n",
       "      <td>100000</td>\n",
       "      <td>NG</td>\n",
       "      <td>L</td>\n",
       "    </tr>\n",
       "    <tr>\n",
       "      <th>3</th>\n",
       "      <td>2023</td>\n",
       "      <td>EN</td>\n",
       "      <td>FT</td>\n",
       "      <td>Compliance Data Analyst</td>\n",
       "      <td>30000</td>\n",
       "      <td>USD</td>\n",
       "      <td>30000</td>\n",
       "      <td>NG</td>\n",
       "      <td>L</td>\n",
       "    </tr>\n",
       "    <tr>\n",
       "      <th>4</th>\n",
       "      <td>2023</td>\n",
       "      <td>EN</td>\n",
       "      <td>FT</td>\n",
       "      <td>Applied Scientist</td>\n",
       "      <td>204620</td>\n",
       "      <td>USD</td>\n",
       "      <td>204620</td>\n",
       "      <td>US</td>\n",
       "      <td>L</td>\n",
       "    </tr>\n",
       "  </tbody>\n",
       "</table>\n",
       "</div>"
      ],
      "text/plain": [
       "   work_year experience_level employment_type                job_title  \\\n",
       "0       2023               EN              FT        Applied Scientist   \n",
       "1       2023               EN              FT        Applied Scientist   \n",
       "2       2023               EN              FT     Data Quality Analyst   \n",
       "3       2023               EN              FT  Compliance Data Analyst   \n",
       "4       2023               EN              FT        Applied Scientist   \n",
       "\n",
       "   salary salary_currency  salary_in_usd company_location company_size  \n",
       "0  213660             USD         213660               US            L  \n",
       "1  130760             USD         130760               US            L  \n",
       "2  100000             USD         100000               NG            L  \n",
       "3   30000             USD          30000               NG            L  \n",
       "4  204620             USD         204620               US            L  "
      ]
     },
     "execution_count": 5,
     "metadata": {},
     "output_type": "execute_result"
    }
   ],
   "source": [
    "df.head()"
   ]
  },
  {
   "cell_type": "code",
   "execution_count": 6,
   "id": "4434ed45",
   "metadata": {
    "execution": {
     "iopub.execute_input": "2023-12-31T03:14:06.106420Z",
     "iopub.status.busy": "2023-12-31T03:14:06.106007Z",
     "iopub.status.idle": "2023-12-31T03:14:06.119852Z",
     "shell.execute_reply": "2023-12-31T03:14:06.118853Z"
    },
    "papermill": {
     "duration": 0.025474,
     "end_time": "2023-12-31T03:14:06.122042",
     "exception": false,
     "start_time": "2023-12-31T03:14:06.096568",
     "status": "completed"
    },
    "tags": []
   },
   "outputs": [
    {
     "data": {
      "text/html": [
       "<div>\n",
       "<style scoped>\n",
       "    .dataframe tbody tr th:only-of-type {\n",
       "        vertical-align: middle;\n",
       "    }\n",
       "\n",
       "    .dataframe tbody tr th {\n",
       "        vertical-align: top;\n",
       "    }\n",
       "\n",
       "    .dataframe thead th {\n",
       "        text-align: right;\n",
       "    }\n",
       "</style>\n",
       "<table border=\"1\" class=\"dataframe\">\n",
       "  <thead>\n",
       "    <tr style=\"text-align: right;\">\n",
       "      <th></th>\n",
       "      <th>work_year</th>\n",
       "      <th>experience_level</th>\n",
       "      <th>employment_type</th>\n",
       "      <th>job_title</th>\n",
       "      <th>salary</th>\n",
       "      <th>salary_currency</th>\n",
       "      <th>salary_in_usd</th>\n",
       "      <th>company_location</th>\n",
       "      <th>company_size</th>\n",
       "    </tr>\n",
       "  </thead>\n",
       "  <tbody>\n",
       "    <tr>\n",
       "      <th>3756</th>\n",
       "      <td>2020</td>\n",
       "      <td>SE</td>\n",
       "      <td>FT</td>\n",
       "      <td>Principal Data Scientist</td>\n",
       "      <td>130000</td>\n",
       "      <td>EUR</td>\n",
       "      <td>148261</td>\n",
       "      <td>DE</td>\n",
       "      <td>M</td>\n",
       "    </tr>\n",
       "    <tr>\n",
       "      <th>3757</th>\n",
       "      <td>2020</td>\n",
       "      <td>SE</td>\n",
       "      <td>FT</td>\n",
       "      <td>Data Scientist</td>\n",
       "      <td>80000</td>\n",
       "      <td>EUR</td>\n",
       "      <td>91237</td>\n",
       "      <td>AT</td>\n",
       "      <td>S</td>\n",
       "    </tr>\n",
       "    <tr>\n",
       "      <th>3758</th>\n",
       "      <td>2020</td>\n",
       "      <td>SE</td>\n",
       "      <td>FT</td>\n",
       "      <td>Data Science Manager</td>\n",
       "      <td>190200</td>\n",
       "      <td>USD</td>\n",
       "      <td>190200</td>\n",
       "      <td>US</td>\n",
       "      <td>M</td>\n",
       "    </tr>\n",
       "    <tr>\n",
       "      <th>3759</th>\n",
       "      <td>2020</td>\n",
       "      <td>SE</td>\n",
       "      <td>FT</td>\n",
       "      <td>Machine Learning Engineer</td>\n",
       "      <td>40000</td>\n",
       "      <td>EUR</td>\n",
       "      <td>45618</td>\n",
       "      <td>HR</td>\n",
       "      <td>S</td>\n",
       "    </tr>\n",
       "    <tr>\n",
       "      <th>3760</th>\n",
       "      <td>2020</td>\n",
       "      <td>SE</td>\n",
       "      <td>FT</td>\n",
       "      <td>Data Scientist</td>\n",
       "      <td>412000</td>\n",
       "      <td>USD</td>\n",
       "      <td>412000</td>\n",
       "      <td>US</td>\n",
       "      <td>L</td>\n",
       "    </tr>\n",
       "  </tbody>\n",
       "</table>\n",
       "</div>"
      ],
      "text/plain": [
       "      work_year experience_level employment_type                  job_title  \\\n",
       "3756       2020               SE              FT   Principal Data Scientist   \n",
       "3757       2020               SE              FT             Data Scientist   \n",
       "3758       2020               SE              FT       Data Science Manager   \n",
       "3759       2020               SE              FT  Machine Learning Engineer   \n",
       "3760       2020               SE              FT             Data Scientist   \n",
       "\n",
       "      salary salary_currency  salary_in_usd company_location company_size  \n",
       "3756  130000             EUR         148261               DE            M  \n",
       "3757   80000             EUR          91237               AT            S  \n",
       "3758  190200             USD         190200               US            M  \n",
       "3759   40000             EUR          45618               HR            S  \n",
       "3760  412000             USD         412000               US            L  "
      ]
     },
     "execution_count": 6,
     "metadata": {},
     "output_type": "execute_result"
    }
   ],
   "source": [
    "df.tail()"
   ]
  },
  {
   "cell_type": "code",
   "execution_count": 7,
   "id": "0beb4d57",
   "metadata": {
    "execution": {
     "iopub.execute_input": "2023-12-31T03:14:06.139947Z",
     "iopub.status.busy": "2023-12-31T03:14:06.139149Z",
     "iopub.status.idle": "2023-12-31T03:14:06.157712Z",
     "shell.execute_reply": "2023-12-31T03:14:06.156452Z"
    },
    "papermill": {
     "duration": 0.030463,
     "end_time": "2023-12-31T03:14:06.160260",
     "exception": false,
     "start_time": "2023-12-31T03:14:06.129797",
     "status": "completed"
    },
    "tags": []
   },
   "outputs": [
    {
     "data": {
      "text/html": [
       "<div>\n",
       "<style scoped>\n",
       "    .dataframe tbody tr th:only-of-type {\n",
       "        vertical-align: middle;\n",
       "    }\n",
       "\n",
       "    .dataframe tbody tr th {\n",
       "        vertical-align: top;\n",
       "    }\n",
       "\n",
       "    .dataframe thead th {\n",
       "        text-align: right;\n",
       "    }\n",
       "</style>\n",
       "<table border=\"1\" class=\"dataframe\">\n",
       "  <thead>\n",
       "    <tr style=\"text-align: right;\">\n",
       "      <th></th>\n",
       "      <th>work_year</th>\n",
       "      <th>experience_level</th>\n",
       "      <th>employment_type</th>\n",
       "      <th>job_title</th>\n",
       "      <th>salary</th>\n",
       "      <th>salary_currency</th>\n",
       "      <th>salary_in_usd</th>\n",
       "      <th>company_location</th>\n",
       "      <th>company_size</th>\n",
       "    </tr>\n",
       "  </thead>\n",
       "  <tbody>\n",
       "    <tr>\n",
       "      <th>346</th>\n",
       "      <td>2023</td>\n",
       "      <td>MI</td>\n",
       "      <td>FT</td>\n",
       "      <td>Data Scientist</td>\n",
       "      <td>116990</td>\n",
       "      <td>USD</td>\n",
       "      <td>116990</td>\n",
       "      <td>US</td>\n",
       "      <td>M</td>\n",
       "    </tr>\n",
       "    <tr>\n",
       "      <th>1590</th>\n",
       "      <td>2023</td>\n",
       "      <td>SE</td>\n",
       "      <td>FT</td>\n",
       "      <td>Computer Vision Engineer</td>\n",
       "      <td>200000</td>\n",
       "      <td>USD</td>\n",
       "      <td>200000</td>\n",
       "      <td>US</td>\n",
       "      <td>S</td>\n",
       "    </tr>\n",
       "    <tr>\n",
       "      <th>3713</th>\n",
       "      <td>2020</td>\n",
       "      <td>MI</td>\n",
       "      <td>FT</td>\n",
       "      <td>Data Engineer</td>\n",
       "      <td>51999</td>\n",
       "      <td>EUR</td>\n",
       "      <td>59303</td>\n",
       "      <td>DE</td>\n",
       "      <td>S</td>\n",
       "    </tr>\n",
       "    <tr>\n",
       "      <th>1747</th>\n",
       "      <td>2023</td>\n",
       "      <td>SE</td>\n",
       "      <td>FT</td>\n",
       "      <td>Machine Learning Engineer</td>\n",
       "      <td>204500</td>\n",
       "      <td>USD</td>\n",
       "      <td>204500</td>\n",
       "      <td>US</td>\n",
       "      <td>M</td>\n",
       "    </tr>\n",
       "    <tr>\n",
       "      <th>3567</th>\n",
       "      <td>2021</td>\n",
       "      <td>MI</td>\n",
       "      <td>FT</td>\n",
       "      <td>Data Engineer</td>\n",
       "      <td>110000</td>\n",
       "      <td>USD</td>\n",
       "      <td>110000</td>\n",
       "      <td>US</td>\n",
       "      <td>L</td>\n",
       "    </tr>\n",
       "  </tbody>\n",
       "</table>\n",
       "</div>"
      ],
      "text/plain": [
       "      work_year experience_level employment_type                  job_title  \\\n",
       "346        2023               MI              FT             Data Scientist   \n",
       "1590       2023               SE              FT   Computer Vision Engineer   \n",
       "3713       2020               MI              FT              Data Engineer   \n",
       "1747       2023               SE              FT  Machine Learning Engineer   \n",
       "3567       2021               MI              FT              Data Engineer   \n",
       "\n",
       "      salary salary_currency  salary_in_usd company_location company_size  \n",
       "346   116990             USD         116990               US            M  \n",
       "1590  200000             USD         200000               US            S  \n",
       "3713   51999             EUR          59303               DE            S  \n",
       "1747  204500             USD         204500               US            M  \n",
       "3567  110000             USD         110000               US            L  "
      ]
     },
     "execution_count": 7,
     "metadata": {},
     "output_type": "execute_result"
    }
   ],
   "source": [
    "df.sample(5)"
   ]
  },
  {
   "cell_type": "code",
   "execution_count": 23,
   "id": "b64f1738",
   "metadata": {},
   "outputs": [
    {
     "data": {
      "text/plain": [
       "Index(['work_year', 'experience_level', 'employment_type', 'job_title',\n",
       "       'salary', 'salary_currency', 'salary_in_usd', 'company_location',\n",
       "       'company_size'],\n",
       "      dtype='object')"
      ]
     },
     "execution_count": 23,
     "metadata": {},
     "output_type": "execute_result"
    }
   ],
   "source": [
    "df.columns"
   ]
  },
  {
   "cell_type": "markdown",
   "id": "18cfdb51",
   "metadata": {
    "papermill": {
     "duration": 0.008345,
     "end_time": "2023-12-31T03:14:06.177283",
     "exception": false,
     "start_time": "2023-12-31T03:14:06.168938",
     "status": "completed"
    },
    "tags": []
   },
   "source": [
    "## Basic Exploration"
   ]
  },
  {
   "cell_type": "markdown",
   "id": "8a5e06f2",
   "metadata": {
    "papermill": {
     "duration": 0.009081,
     "end_time": "2023-12-31T03:14:06.331117",
     "exception": false,
     "start_time": "2023-12-31T03:14:06.322036",
     "status": "completed"
    },
    "tags": []
   },
   "source": [
    "### Check missing values"
   ]
  },
  {
   "cell_type": "code",
   "execution_count": 8,
   "id": "ba38ceac",
   "metadata": {
    "execution": {
     "iopub.execute_input": "2023-12-31T03:14:06.349908Z",
     "iopub.status.busy": "2023-12-31T03:14:06.349518Z",
     "iopub.status.idle": "2023-12-31T03:14:06.362215Z",
     "shell.execute_reply": "2023-12-31T03:14:06.360923Z"
    },
    "papermill": {
     "duration": 0.024904,
     "end_time": "2023-12-31T03:14:06.364639",
     "exception": false,
     "start_time": "2023-12-31T03:14:06.339735",
     "status": "completed"
    },
    "tags": []
   },
   "outputs": [
    {
     "data": {
      "text/plain": [
       "work_year           0\n",
       "experience_level    0\n",
       "employment_type     0\n",
       "job_title           0\n",
       "salary              0\n",
       "salary_currency     0\n",
       "salary_in_usd       0\n",
       "company_location    0\n",
       "company_size        0\n",
       "dtype: int64"
      ]
     },
     "execution_count": 8,
     "metadata": {},
     "output_type": "execute_result"
    }
   ],
   "source": [
    "df.isnull().sum()"
   ]
  },
  {
   "cell_type": "code",
   "execution_count": 9,
   "id": "562c0425",
   "metadata": {
    "execution": {
     "iopub.execute_input": "2023-12-31T03:14:06.195945Z",
     "iopub.status.busy": "2023-12-31T03:14:06.195573Z",
     "iopub.status.idle": "2023-12-31T03:14:06.220481Z",
     "shell.execute_reply": "2023-12-31T03:14:06.219621Z"
    },
    "papermill": {
     "duration": 0.036729,
     "end_time": "2023-12-31T03:14:06.222774",
     "exception": false,
     "start_time": "2023-12-31T03:14:06.186045",
     "status": "completed"
    },
    "tags": []
   },
   "outputs": [
    {
     "name": "stdout",
     "output_type": "stream",
     "text": [
      "<class 'pandas.core.frame.DataFrame'>\n",
      "RangeIndex: 3761 entries, 0 to 3760\n",
      "Data columns (total 9 columns):\n",
      " #   Column            Non-Null Count  Dtype \n",
      "---  ------            --------------  ----- \n",
      " 0   work_year         3761 non-null   int64 \n",
      " 1   experience_level  3761 non-null   object\n",
      " 2   employment_type   3761 non-null   object\n",
      " 3   job_title         3761 non-null   object\n",
      " 4   salary            3761 non-null   int64 \n",
      " 5   salary_currency   3761 non-null   object\n",
      " 6   salary_in_usd     3761 non-null   int64 \n",
      " 7   company_location  3761 non-null   object\n",
      " 8   company_size      3761 non-null   object\n",
      "dtypes: int64(3), object(6)\n",
      "memory usage: 264.6+ KB\n"
     ]
    }
   ],
   "source": [
    "df.info()"
   ]
  },
  {
   "cell_type": "code",
   "execution_count": 10,
   "id": "8e683196",
   "metadata": {
    "execution": {
     "iopub.execute_input": "2023-12-31T03:14:06.240970Z",
     "iopub.status.busy": "2023-12-31T03:14:06.240537Z",
     "iopub.status.idle": "2023-12-31T03:14:06.247941Z",
     "shell.execute_reply": "2023-12-31T03:14:06.246768Z"
    },
    "papermill": {
     "duration": 0.019358,
     "end_time": "2023-12-31T03:14:06.250242",
     "exception": false,
     "start_time": "2023-12-31T03:14:06.230884",
     "status": "completed"
    },
    "tags": []
   },
   "outputs": [
    {
     "data": {
      "text/plain": [
       "(3761, 9)"
      ]
     },
     "execution_count": 10,
     "metadata": {},
     "output_type": "execute_result"
    }
   ],
   "source": [
    "df.shape"
   ]
  },
  {
   "cell_type": "markdown",
   "id": "0e6414cc",
   "metadata": {},
   "source": [
    "### Descriptive Statistics"
   ]
  },
  {
   "cell_type": "code",
   "execution_count": 12,
   "id": "22c822f8",
   "metadata": {
    "execution": {
     "iopub.execute_input": "2023-12-31T03:14:06.287946Z",
     "iopub.status.busy": "2023-12-31T03:14:06.286979Z",
     "iopub.status.idle": "2023-12-31T03:14:06.310493Z",
     "shell.execute_reply": "2023-12-31T03:14:06.309201Z"
    },
    "papermill": {
     "duration": 0.036266,
     "end_time": "2023-12-31T03:14:06.313425",
     "exception": false,
     "start_time": "2023-12-31T03:14:06.277159",
     "status": "completed"
    },
    "tags": []
   },
   "outputs": [
    {
     "data": {
      "text/html": [
       "<div>\n",
       "<style scoped>\n",
       "    .dataframe tbody tr th:only-of-type {\n",
       "        vertical-align: middle;\n",
       "    }\n",
       "\n",
       "    .dataframe tbody tr th {\n",
       "        vertical-align: top;\n",
       "    }\n",
       "\n",
       "    .dataframe thead th {\n",
       "        text-align: right;\n",
       "    }\n",
       "</style>\n",
       "<table border=\"1\" class=\"dataframe\">\n",
       "  <thead>\n",
       "    <tr style=\"text-align: right;\">\n",
       "      <th></th>\n",
       "      <th>work_year</th>\n",
       "      <th>experience_level</th>\n",
       "      <th>employment_type</th>\n",
       "      <th>job_title</th>\n",
       "      <th>salary</th>\n",
       "      <th>salary_currency</th>\n",
       "      <th>salary_in_usd</th>\n",
       "      <th>company_location</th>\n",
       "      <th>company_size</th>\n",
       "    </tr>\n",
       "  </thead>\n",
       "  <tbody>\n",
       "    <tr>\n",
       "      <th>count</th>\n",
       "      <td>3761.000000</td>\n",
       "      <td>3761</td>\n",
       "      <td>3761</td>\n",
       "      <td>3761</td>\n",
       "      <td>3.761000e+03</td>\n",
       "      <td>3761</td>\n",
       "      <td>3761.000000</td>\n",
       "      <td>3761</td>\n",
       "      <td>3761</td>\n",
       "    </tr>\n",
       "    <tr>\n",
       "      <th>unique</th>\n",
       "      <td>NaN</td>\n",
       "      <td>4</td>\n",
       "      <td>4</td>\n",
       "      <td>93</td>\n",
       "      <td>NaN</td>\n",
       "      <td>20</td>\n",
       "      <td>NaN</td>\n",
       "      <td>72</td>\n",
       "      <td>3</td>\n",
       "    </tr>\n",
       "    <tr>\n",
       "      <th>top</th>\n",
       "      <td>NaN</td>\n",
       "      <td>SE</td>\n",
       "      <td>FT</td>\n",
       "      <td>Data Engineer</td>\n",
       "      <td>NaN</td>\n",
       "      <td>USD</td>\n",
       "      <td>NaN</td>\n",
       "      <td>US</td>\n",
       "      <td>M</td>\n",
       "    </tr>\n",
       "    <tr>\n",
       "      <th>freq</th>\n",
       "      <td>NaN</td>\n",
       "      <td>2518</td>\n",
       "      <td>3724</td>\n",
       "      <td>1040</td>\n",
       "      <td>NaN</td>\n",
       "      <td>3229</td>\n",
       "      <td>NaN</td>\n",
       "      <td>3045</td>\n",
       "      <td>3157</td>\n",
       "    </tr>\n",
       "    <tr>\n",
       "      <th>mean</th>\n",
       "      <td>2022.374103</td>\n",
       "      <td>NaN</td>\n",
       "      <td>NaN</td>\n",
       "      <td>NaN</td>\n",
       "      <td>1.905999e+05</td>\n",
       "      <td>NaN</td>\n",
       "      <td>137555.178942</td>\n",
       "      <td>NaN</td>\n",
       "      <td>NaN</td>\n",
       "    </tr>\n",
       "    <tr>\n",
       "      <th>std</th>\n",
       "      <td>0.691252</td>\n",
       "      <td>NaN</td>\n",
       "      <td>NaN</td>\n",
       "      <td>NaN</td>\n",
       "      <td>6.711457e+05</td>\n",
       "      <td>NaN</td>\n",
       "      <td>63022.267974</td>\n",
       "      <td>NaN</td>\n",
       "      <td>NaN</td>\n",
       "    </tr>\n",
       "    <tr>\n",
       "      <th>min</th>\n",
       "      <td>2020.000000</td>\n",
       "      <td>NaN</td>\n",
       "      <td>NaN</td>\n",
       "      <td>NaN</td>\n",
       "      <td>6.000000e+03</td>\n",
       "      <td>NaN</td>\n",
       "      <td>5132.000000</td>\n",
       "      <td>NaN</td>\n",
       "      <td>NaN</td>\n",
       "    </tr>\n",
       "    <tr>\n",
       "      <th>25%</th>\n",
       "      <td>2022.000000</td>\n",
       "      <td>NaN</td>\n",
       "      <td>NaN</td>\n",
       "      <td>NaN</td>\n",
       "      <td>1.000000e+05</td>\n",
       "      <td>NaN</td>\n",
       "      <td>95000.000000</td>\n",
       "      <td>NaN</td>\n",
       "      <td>NaN</td>\n",
       "    </tr>\n",
       "    <tr>\n",
       "      <th>50%</th>\n",
       "      <td>2022.000000</td>\n",
       "      <td>NaN</td>\n",
       "      <td>NaN</td>\n",
       "      <td>NaN</td>\n",
       "      <td>1.375000e+05</td>\n",
       "      <td>NaN</td>\n",
       "      <td>135000.000000</td>\n",
       "      <td>NaN</td>\n",
       "      <td>NaN</td>\n",
       "    </tr>\n",
       "    <tr>\n",
       "      <th>75%</th>\n",
       "      <td>2023.000000</td>\n",
       "      <td>NaN</td>\n",
       "      <td>NaN</td>\n",
       "      <td>NaN</td>\n",
       "      <td>1.800000e+05</td>\n",
       "      <td>NaN</td>\n",
       "      <td>175000.000000</td>\n",
       "      <td>NaN</td>\n",
       "      <td>NaN</td>\n",
       "    </tr>\n",
       "    <tr>\n",
       "      <th>max</th>\n",
       "      <td>2023.000000</td>\n",
       "      <td>NaN</td>\n",
       "      <td>NaN</td>\n",
       "      <td>NaN</td>\n",
       "      <td>3.040000e+07</td>\n",
       "      <td>NaN</td>\n",
       "      <td>450000.000000</td>\n",
       "      <td>NaN</td>\n",
       "      <td>NaN</td>\n",
       "    </tr>\n",
       "  </tbody>\n",
       "</table>\n",
       "</div>"
      ],
      "text/plain": [
       "          work_year experience_level employment_type      job_title  \\\n",
       "count   3761.000000             3761            3761           3761   \n",
       "unique          NaN                4               4             93   \n",
       "top             NaN               SE              FT  Data Engineer   \n",
       "freq            NaN             2518            3724           1040   \n",
       "mean    2022.374103              NaN             NaN            NaN   \n",
       "std        0.691252              NaN             NaN            NaN   \n",
       "min     2020.000000              NaN             NaN            NaN   \n",
       "25%     2022.000000              NaN             NaN            NaN   \n",
       "50%     2022.000000              NaN             NaN            NaN   \n",
       "75%     2023.000000              NaN             NaN            NaN   \n",
       "max     2023.000000              NaN             NaN            NaN   \n",
       "\n",
       "              salary salary_currency  salary_in_usd company_location  \\\n",
       "count   3.761000e+03            3761    3761.000000             3761   \n",
       "unique           NaN              20            NaN               72   \n",
       "top              NaN             USD            NaN               US   \n",
       "freq             NaN            3229            NaN             3045   \n",
       "mean    1.905999e+05             NaN  137555.178942              NaN   \n",
       "std     6.711457e+05             NaN   63022.267974              NaN   \n",
       "min     6.000000e+03             NaN    5132.000000              NaN   \n",
       "25%     1.000000e+05             NaN   95000.000000              NaN   \n",
       "50%     1.375000e+05             NaN  135000.000000              NaN   \n",
       "75%     1.800000e+05             NaN  175000.000000              NaN   \n",
       "max     3.040000e+07             NaN  450000.000000              NaN   \n",
       "\n",
       "       company_size  \n",
       "count          3761  \n",
       "unique            3  \n",
       "top               M  \n",
       "freq           3157  \n",
       "mean            NaN  \n",
       "std             NaN  \n",
       "min             NaN  \n",
       "25%             NaN  \n",
       "50%             NaN  \n",
       "75%             NaN  \n",
       "max             NaN  "
      ]
     },
     "execution_count": 12,
     "metadata": {},
     "output_type": "execute_result"
    }
   ],
   "source": [
    "df.describe(include='all')"
   ]
  },
  {
   "cell_type": "markdown",
   "id": "a1202c25",
   "metadata": {
    "papermill": {
     "duration": 0.008266,
     "end_time": "2023-12-31T03:14:06.381740",
     "exception": false,
     "start_time": "2023-12-31T03:14:06.373474",
     "status": "completed"
    },
    "tags": []
   },
   "source": [
    "### Check duplicated"
   ]
  },
  {
   "cell_type": "code",
   "execution_count": 26,
   "id": "cc1f1750",
   "metadata": {
    "execution": {
     "iopub.execute_input": "2023-12-31T03:14:06.400814Z",
     "iopub.status.busy": "2023-12-31T03:14:06.400412Z",
     "iopub.status.idle": "2023-12-31T03:14:06.413257Z",
     "shell.execute_reply": "2023-12-31T03:14:06.412133Z"
    },
    "papermill": {
     "duration": 0.025378,
     "end_time": "2023-12-31T03:14:06.415823",
     "exception": false,
     "start_time": "2023-12-31T03:14:06.390445",
     "status": "completed"
    },
    "tags": []
   },
   "outputs": [
    {
     "data": {
      "text/plain": [
       "1351"
      ]
     },
     "execution_count": 26,
     "metadata": {},
     "output_type": "execute_result"
    }
   ],
   "source": [
    "df.duplicated().sum()"
   ]
  },
  {
   "cell_type": "markdown",
   "id": "c8c9e623",
   "metadata": {
    "papermill": {
     "duration": 0.008929,
     "end_time": "2023-12-31T03:14:06.471461",
     "exception": false,
     "start_time": "2023-12-31T03:14:06.462532",
     "status": "completed"
    },
    "tags": []
   },
   "source": [
    "### Conclusion\n",
    "\n",
    "In conclusion, our basic data exploration revealed the following key findings:\n",
    "\n",
    "1. **Data Types**: The data types of our dataset are accurate and appropriate for our analysis, indicating that the data is well-structured.\n",
    "\n",
    "2. **Missing Values**: We found no missing values in our dataset. This suggests that our data is complete and ready for analysis without the need for imputation.\n",
    "\n",
    "3. **Duplicate Entries**: Initially, there were 1351 duplicate entries in the dataset. However, we have decided not to remove them, since they are mostly coincidences, not an error in data collecting.\n",
    "\n",
    "These observations assure us that our dataset is in good shape and suitable for further analysis and insights."
   ]
  },
  {
   "cell_type": "markdown",
   "id": "83e5bd77",
   "metadata": {
    "papermill": {
     "duration": 0.008991,
     "end_time": "2023-12-31T03:14:06.489822",
     "exception": false,
     "start_time": "2023-12-31T03:14:06.480831",
     "status": "completed"
    },
    "tags": []
   },
   "source": [
    "### Data basic exploration\n",
    "\n",
    "In this step, we will examine the unique values in certain columns, such as:\n",
    "\n",
    "1. **Experience Level**\n",
    "2. **Employment Type**\n",
    "3. **Company Size**\n",
    "4. **Currency**\n",
    "\n",
    "The purpose of this step is to identify values that may need to be replaced with more appropriate and standardized terms.\n",
    "\n",
    "\n"
   ]
  },
  {
   "cell_type": "code",
   "execution_count": 36,
   "id": "3bd48246",
   "metadata": {
    "execution": {
     "iopub.execute_input": "2023-12-31T03:14:06.509929Z",
     "iopub.status.busy": "2023-12-31T03:14:06.509525Z",
     "iopub.status.idle": "2023-12-31T03:14:06.517794Z",
     "shell.execute_reply": "2023-12-31T03:14:06.516516Z"
    },
    "papermill": {
     "duration": 0.021483,
     "end_time": "2023-12-31T03:14:06.520242",
     "exception": false,
     "start_time": "2023-12-31T03:14:06.498759",
     "status": "completed"
    },
    "tags": []
   },
   "outputs": [
    {
     "name": "stdout",
     "output_type": "stream",
     "text": [
      "Unique Experience Levels: ['Entry Level' 'Experienced' 'Mid-Level' 'Seniour']\n",
      "Unique Employment Types: ['Full time' 'part time' 'Contractor' 'Freelancer']\n",
      "Unique Company Sizes: ['Large' 'Medium' 'small']\n",
      "Unique job_title: ['Applied Scientist' 'Data Quality Analyst' 'Compliance Data Analyst'\n",
      " 'Machine Learning Engineer' 'Research Scientist' 'Data Engineer'\n",
      " 'Data Analyst' 'Data Scientist' 'BI Data Engineer' 'Research Engineer'\n",
      " 'Business Data Analyst' 'Autonomous Vehicle Technician'\n",
      " 'Applied Machine Learning Scientist' 'AI Programmer' 'AI Developer'\n",
      " 'Computer Vision Engineer' 'BI Developer' 'Big Data Engineer'\n",
      " 'Deep Learning Engineer' 'Head of Data' 'Analytics Engineer'\n",
      " 'Data Architect' 'Director of Data Science' 'Head of Data Science'\n",
      " 'Data Analytics Manager' 'ML Engineer'\n",
      " 'Applied Machine Learning Engineer' 'Applied Data Scientist'\n",
      " 'ETL Engineer' 'Data Specialist' 'Lead Data Analyst' 'Data Manager'\n",
      " 'Machine Learning Scientist' 'MLOps Engineer' 'Financial Data Analyst'\n",
      " 'Software Data Engineer' 'Data Science Manager' 'Data Science Consultant'\n",
      " 'Machine Learning Infrastructure Engineer' 'Insight Analyst'\n",
      " 'AI Scientist' 'Data Infrastructure Engineer' 'Data Science Lead'\n",
      " 'Product Data Analyst' 'Data Analytics Lead'\n",
      " 'Machine Learning Research Engineer' 'Principal Data Scientist'\n",
      " 'Data Modeler' 'Business Intelligence Engineer' 'Data Strategist'\n",
      " 'Data DevOps Engineer' 'Machine Learning Researcher'\n",
      " 'Cloud Database Engineer' 'Data Operations Engineer'\n",
      " 'Deep Learning Researcher' 'BI Analyst' 'Data Analytics Specialist'\n",
      " 'BI Data Analyst' 'Machine Learning Software Engineer'\n",
      " 'Big Data Architect' 'Computer Vision Software Engineer'\n",
      " 'Azure Data Engineer' 'Data Lead' 'Data Science Engineer' 'NLP Engineer'\n",
      " 'Machine Learning Developer' 'Data Analytics Engineer'\n",
      " 'Data Analytics Consultant' '3D Computer Vision Researcher'\n",
      " 'Lead Data Engineer' 'Head of Machine Learning' 'Data Scientist Lead'\n",
      " 'Lead Data Scientist' 'ETL Developer' 'Principal Data Analyst'\n",
      " 'Manager Data Management' 'Principal Machine Learning Engineer'\n",
      " 'Data Management Specialist' 'Data Science Tech Lead'\n",
      " 'Cloud Data Engineer' 'Data Operations Analyst' 'Marketing Data Analyst'\n",
      " 'Product Data Scientist' 'Principal Data Architect'\n",
      " 'Machine Learning Manager' 'Lead Machine Learning Engineer'\n",
      " 'Marketing Data Engineer' 'Power BI Developer' 'Cloud Data Architect'\n",
      " 'Principal Data Engineer' 'Staff Data Scientist' 'Finance Data Analyst'\n",
      " 'Staff Data Analyst']\n"
     ]
    }
   ],
   "source": [
    "unique_experience_levels = df['experience_level'].unique()\n",
    "unique_employment_types = df['employment_type'].unique()\n",
    "unique_company_sizes = df['company_size'].unique()\n",
    "unique_job_title = df['job_title'].unique()\n",
    "\n",
    "print(\"Unique Experience Levels:\", unique_experience_levels)\n",
    "print(\"Unique Employment Types:\", unique_employment_types)\n",
    "print(\"Unique Company Sizes:\", unique_company_sizes)\n",
    "print(\"Unique job_title:\", unique_job_title)"
   ]
  },
  {
   "cell_type": "code",
   "execution_count": 29,
   "id": "c8a3028e",
   "metadata": {
    "execution": {
     "iopub.execute_input": "2023-12-31T03:14:06.541102Z",
     "iopub.status.busy": "2023-12-31T03:14:06.540184Z",
     "iopub.status.idle": "2023-12-31T03:14:06.555569Z",
     "shell.execute_reply": "2023-12-31T03:14:06.554412Z"
    },
    "papermill": {
     "duration": 0.02883,
     "end_time": "2023-12-31T03:14:06.558662",
     "exception": false,
     "start_time": "2023-12-31T03:14:06.529832",
     "status": "completed"
    },
    "tags": []
   },
   "outputs": [],
   "source": [
    "df['experience_level'] = df['experience_level'].replace('EN', 'Entry Level')\n",
    "df['experience_level'] = df['experience_level'].replace('EX', 'Experienced')\n",
    "df['experience_level'] = df['experience_level'].replace('MI', 'Mid-Level')\n",
    "df['experience_level'] = df['experience_level'].replace('SE', 'Seniour')\n",
    "\n",
    "\n",
    "df['employment_type'] = df['employment_type'].replace('FT', 'Full time')\n",
    "df['employment_type'] = df['employment_type'].replace('PT', 'part time')\n",
    "df['employment_type'] = df['employment_type'].replace('CT', 'Contractor')\n",
    "df['employment_type'] = df['employment_type'].replace('FL', 'Freelancer')\n",
    "\n",
    "df['company_size'] = df['company_size'].replace('L', 'Large')\n",
    "df['company_size'] = df['company_size'].replace('M', 'Medium')\n",
    "df['company_size'] = df['company_size'].replace('S', 'small')"
   ]
  },
  {
   "cell_type": "markdown",
   "id": "85e0c7bb",
   "metadata": {
    "papermill": {
     "duration": 0.008813,
     "end_time": "2023-12-31T03:14:06.576582",
     "exception": false,
     "start_time": "2023-12-31T03:14:06.567769",
     "status": "completed"
    },
    "tags": []
   },
   "source": [
    "## Exploratory Data analysis"
   ]
  },
  {
   "cell_type": "code",
   "execution_count": 15,
   "id": "15d19ae9",
   "metadata": {
    "execution": {
     "iopub.execute_input": "2023-12-31T03:14:06.596622Z",
     "iopub.status.busy": "2023-12-31T03:14:06.595976Z",
     "iopub.status.idle": "2023-12-31T03:14:06.896522Z",
     "shell.execute_reply": "2023-12-31T03:14:06.895425Z"
    },
    "papermill": {
     "duration": 0.313563,
     "end_time": "2023-12-31T03:14:06.899012",
     "exception": false,
     "start_time": "2023-12-31T03:14:06.585449",
     "status": "completed"
    },
    "tags": []
   },
   "outputs": [
    {
     "data": {
      "text/plain": [
       "<Axes: >"
      ]
     },
     "execution_count": 15,
     "metadata": {},
     "output_type": "execute_result"
    },
    {
     "data": {
      "image/png": "[encoded data removed]",
      "text/plain": [
       "<Figure size 640x480 with 1 Axes>"
      ]
     },
     "metadata": {},
     "output_type": "display_data"
    }
   ],
   "source": [
    "df[\"experience_level\"].value_counts().plot(kind=\"bar\")"
   ]
  },
  {
   "cell_type": "code",
   "execution_count": 16,
   "id": "bf6cc46e",
   "metadata": {
    "execution": {
     "iopub.execute_input": "2023-12-31T03:14:06.922236Z",
     "iopub.status.busy": "2023-12-31T03:14:06.921447Z",
     "iopub.status.idle": "2023-12-31T03:14:07.141105Z",
     "shell.execute_reply": "2023-12-31T03:14:07.140115Z"
    },
    "papermill": {
     "duration": 0.234928,
     "end_time": "2023-12-31T03:14:07.143840",
     "exception": false,
     "start_time": "2023-12-31T03:14:06.908912",
     "status": "completed"
    },
    "tags": []
   },
   "outputs": [
    {
     "data": {
      "text/plain": [
       "<Axes: >"
      ]
     },
     "execution_count": 16,
     "metadata": {},
     "output_type": "execute_result"
    },
    {
     "data": {
      "image/png": "[encoded data removed]",
      "text/plain": [
       "<Figure size 640x480 with 1 Axes>"
      ]
     },
     "metadata": {},
     "output_type": "display_data"
    }
   ],
   "source": [
    "df[\"employment_type\"].value_counts().plot(kind=\"bar\")"
   ]
  },
  {
   "cell_type": "code",
   "execution_count": 17,
   "id": "e52bfc44",
   "metadata": {
    "execution": {
     "iopub.execute_input": "2023-12-31T03:14:07.165296Z",
     "iopub.status.busy": "2023-12-31T03:14:07.164927Z",
     "iopub.status.idle": "2023-12-31T03:14:07.385107Z",
     "shell.execute_reply": "2023-12-31T03:14:07.383731Z"
    },
    "papermill": {
     "duration": 0.233838,
     "end_time": "2023-12-31T03:14:07.387453",
     "exception": false,
     "start_time": "2023-12-31T03:14:07.153615",
     "status": "completed"
    },
    "tags": []
   },
   "outputs": [
    {
     "data": {
      "text/plain": [
       "<Axes: >"
      ]
     },
     "execution_count": 17,
     "metadata": {},
     "output_type": "execute_result"
    },
    {
     "data": {
      "image/png": "[encoded data removed]",
      "text/plain": [
       "<Figure size 640x480 with 1 Axes>"
      ]
     },
     "metadata": {},
     "output_type": "display_data"
    }
   ],
   "source": [
    "df[\"company_size\"].value_counts().plot(kind=\"bar\")"
   ]
  },
  {
   "cell_type": "code",
   "execution_count": 18,
   "id": "c113ea44",
   "metadata": {
    "execution": {
     "iopub.execute_input": "2023-12-31T03:14:07.409591Z",
     "iopub.status.busy": "2023-12-31T03:14:07.409200Z",
     "iopub.status.idle": "2023-12-31T03:14:07.634260Z",
     "shell.execute_reply": "2023-12-31T03:14:07.633129Z"
    },
    "papermill": {
     "duration": 0.238964,
     "end_time": "2023-12-31T03:14:07.636761",
     "exception": false,
     "start_time": "2023-12-31T03:14:07.397797",
     "status": "completed"
    },
    "tags": []
   },
   "outputs": [
    {
     "data": {
      "image/png": "[encoded data removed]",
      "text/plain": [
       "<Figure size 640x480 with 1 Axes>"
      ]
     },
     "metadata": {},
     "output_type": "display_data"
    }
   ],
   "source": [
    "df[\"salary_in_usd\"].plot(kind='hist')\n",
    "plt.show()"
   ]
  },
  {
   "cell_type": "markdown",
   "id": "d508c223",
   "metadata": {},
   "source": [
    "### Salary grouped by experience level and employment type"
   ]
  },
  {
   "cell_type": "code",
   "execution_count": 31,
   "id": "fe53e1d0",
   "metadata": {
    "execution": {
     "iopub.execute_input": "2023-12-31T03:14:07.659482Z",
     "iopub.status.busy": "2023-12-31T03:14:07.659095Z",
     "iopub.status.idle": "2023-12-31T03:14:07.679193Z",
     "shell.execute_reply": "2023-12-31T03:14:07.678043Z"
    },
    "papermill": {
     "duration": 0.034192,
     "end_time": "2023-12-31T03:14:07.681695",
     "exception": false,
     "start_time": "2023-12-31T03:14:07.647503",
     "status": "completed"
    },
    "tags": []
   },
   "outputs": [
    {
     "data": {
      "text/html": [
       "<div>\n",
       "<style scoped>\n",
       "    .dataframe tbody tr th:only-of-type {\n",
       "        vertical-align: middle;\n",
       "    }\n",
       "\n",
       "    .dataframe tbody tr th {\n",
       "        vertical-align: top;\n",
       "    }\n",
       "\n",
       "    .dataframe thead th {\n",
       "        text-align: right;\n",
       "    }\n",
       "</style>\n",
       "<table border=\"1\" class=\"dataframe\">\n",
       "  <thead>\n",
       "    <tr style=\"text-align: right;\">\n",
       "      <th></th>\n",
       "      <th>experience_level</th>\n",
       "      <th>employment_type</th>\n",
       "      <th>salary_in_usd</th>\n",
       "    </tr>\n",
       "  </thead>\n",
       "  <tbody>\n",
       "    <tr>\n",
       "      <th>4</th>\n",
       "      <td>Experienced</td>\n",
       "      <td>Contractor</td>\n",
       "      <td>416000.000000</td>\n",
       "    </tr>\n",
       "    <tr>\n",
       "      <th>5</th>\n",
       "      <td>Experienced</td>\n",
       "      <td>Full time</td>\n",
       "      <td>192974.566372</td>\n",
       "    </tr>\n",
       "    <tr>\n",
       "      <th>12</th>\n",
       "      <td>Seniour</td>\n",
       "      <td>Full time</td>\n",
       "      <td>153225.744528</td>\n",
       "    </tr>\n",
       "    <tr>\n",
       "      <th>8</th>\n",
       "      <td>Mid-Level</td>\n",
       "      <td>Full time</td>\n",
       "      <td>105336.726131</td>\n",
       "    </tr>\n",
       "    <tr>\n",
       "      <th>10</th>\n",
       "      <td>Seniour</td>\n",
       "      <td>Contractor</td>\n",
       "      <td>97500.000000</td>\n",
       "    </tr>\n",
       "    <tr>\n",
       "      <th>2</th>\n",
       "      <td>Entry Level</td>\n",
       "      <td>Full time</td>\n",
       "      <td>80496.529801</td>\n",
       "    </tr>\n",
       "    <tr>\n",
       "      <th>6</th>\n",
       "      <td>Mid-Level</td>\n",
       "      <td>Contractor</td>\n",
       "      <td>78600.000000</td>\n",
       "    </tr>\n",
       "    <tr>\n",
       "      <th>1</th>\n",
       "      <td>Entry Level</td>\n",
       "      <td>Freelancer</td>\n",
       "      <td>75000.000000</td>\n",
       "    </tr>\n",
       "    <tr>\n",
       "      <th>0</th>\n",
       "      <td>Entry Level</td>\n",
       "      <td>Contractor</td>\n",
       "      <td>65234.500000</td>\n",
       "    </tr>\n",
       "    <tr>\n",
       "      <th>11</th>\n",
       "      <td>Seniour</td>\n",
       "      <td>Freelancer</td>\n",
       "      <td>53333.333333</td>\n",
       "    </tr>\n",
       "    <tr>\n",
       "      <th>9</th>\n",
       "      <td>Mid-Level</td>\n",
       "      <td>part time</td>\n",
       "      <td>42561.000000</td>\n",
       "    </tr>\n",
       "    <tr>\n",
       "      <th>7</th>\n",
       "      <td>Mid-Level</td>\n",
       "      <td>Freelancer</td>\n",
       "      <td>41615.600000</td>\n",
       "    </tr>\n",
       "    <tr>\n",
       "      <th>3</th>\n",
       "      <td>Entry Level</td>\n",
       "      <td>part time</td>\n",
       "      <td>38885.000000</td>\n",
       "    </tr>\n",
       "  </tbody>\n",
       "</table>\n",
       "</div>"
      ],
      "text/plain": [
       "   experience_level employment_type  salary_in_usd\n",
       "4       Experienced      Contractor  416000.000000\n",
       "5       Experienced       Full time  192974.566372\n",
       "12          Seniour       Full time  153225.744528\n",
       "8         Mid-Level       Full time  105336.726131\n",
       "10          Seniour      Contractor   97500.000000\n",
       "2       Entry Level       Full time   80496.529801\n",
       "6         Mid-Level      Contractor   78600.000000\n",
       "1       Entry Level      Freelancer   75000.000000\n",
       "0       Entry Level      Contractor   65234.500000\n",
       "11          Seniour      Freelancer   53333.333333\n",
       "9         Mid-Level       part time   42561.000000\n",
       "7         Mid-Level      Freelancer   41615.600000\n",
       "3       Entry Level       part time   38885.000000"
      ]
     },
     "execution_count": 31,
     "metadata": {},
     "output_type": "execute_result"
    }
   ],
   "source": [
    "average_salary = df.groupby([\"experience_level\", \"employment_type\"])[\"salary_in_usd\"].mean().reset_index().sort_values(by='salary_in_usd', ascending=False)\n",
    "average_salary\n"
   ]
  },
  {
   "cell_type": "code",
   "execution_count": 32,
   "id": "fc75ee42",
   "metadata": {
    "execution": {
     "iopub.execute_input": "2023-12-31T03:14:07.705812Z",
     "iopub.status.busy": "2023-12-31T03:14:07.704732Z",
     "iopub.status.idle": "2023-12-31T03:14:08.076279Z",
     "shell.execute_reply": "2023-12-31T03:14:08.075131Z"
    },
    "papermill": {
     "duration": 0.386357,
     "end_time": "2023-12-31T03:14:08.078884",
     "exception": false,
     "start_time": "2023-12-31T03:14:07.692527",
     "status": "completed"
    },
    "tags": []
   },
   "outputs": [
    {
     "data": {
      "image/png": "[encoded data removed]",
      "text/plain": [
       "<Figure size 1000x600 with 1 Axes>"
      ]
     },
     "metadata": {},
     "output_type": "display_data"
    }
   ],
   "source": [
    "plt.figure(figsize=(10, 6))\n",
    "plt.bar(range(len(average_salary)), average_salary['salary_in_usd'], color='skyblue')\n",
    "plt.xticks(range(len(average_salary)), average_salary['experience_level'] + \" - \" + average_salary['employment_type'], rotation=45, ha=\"right\")\n",
    "plt.title('Average Salary by Experience Level and Employment Type')\n",
    "plt.xlabel('Experience Level - Employment Type')\n",
    "plt.ylabel('Average Salary (USD)')\n",
    "plt.show()"
   ]
  },
  {
   "cell_type": "code",
   "execution_count": 37,
   "id": "88d728ce",
   "metadata": {
    "execution": {
     "iopub.execute_input": "2023-12-31T03:14:08.104549Z",
     "iopub.status.busy": "2023-12-31T03:14:08.104121Z",
     "iopub.status.idle": "2023-12-31T03:14:08.248590Z",
     "shell.execute_reply": "2023-12-31T03:14:08.247201Z"
    },
    "papermill": {
     "duration": 0.160606,
     "end_time": "2023-12-31T03:14:08.251787",
     "exception": false,
     "start_time": "2023-12-31T03:14:08.091181",
     "status": "completed"
    },
    "tags": []
   },
   "outputs": [
    {
     "data": {
      "image/png": "[encoded data removed]",
      "text/plain": [
       "<Figure size 500x800 with 1 Axes>"
      ]
     },
     "metadata": {},
     "output_type": "display_data"
    }
   ],
   "source": [
    "work_year_counts = df['work_year'].value_counts()\n",
    "plt.figure(figsize=(5, 8))\n",
    "plt.pie(work_year_counts, labels=work_year_counts.index, autopct='%1.1f%%', startangle=140)\n",
    "plt.title('Work Year Distribution')\n",
    "plt.show()"
   ]
  },
  {
   "cell_type": "code",
   "execution_count": 43,
   "id": "92de7b81",
   "metadata": {},
   "outputs": [
    {
     "data": {
      "image/png": "[encoded data removed]",
      "text/plain": [
       "<Figure size 1200x600 with 1 Axes>"
      ]
     },
     "metadata": {},
     "output_type": "display_data"
    }
   ],
   "source": [
    "avg_sal=[]\n",
    "for year in df['work_year'].unique():\n",
    "    avg_sal.append(df[df['work_year']==year]['salary_in_usd'].mean())\n",
    "tmp=pd.DataFrame({'work_year':df['work_year'].unique(),\n",
    "                 'avg_salary':avg_sal})\n",
    "\n",
    "# Create a grouped bar plot\n",
    "plt.figure(figsize=(12, 6))\n",
    "plt.bar(tmp.index, tmp['avg_salary'], color='skyblue', label='Average Salary')\n",
    "plt.xlabel('Company Size')\n",
    "plt.ylabel('Average Salary (USD)')\n",
    "plt.title('Average Salary by Company Size')\n",
    "plt.xticks(tmp.index, tmp['work_year'], rotation=45, ha=\"right\")\n",
    "plt.legend()\n",
    "plt.show()"
   ]
  },
  {
   "cell_type": "code",
   "execution_count": 38,
   "id": "f7dabf2b",
   "metadata": {
    "execution": {
     "iopub.execute_input": "2023-12-31T03:14:08.296314Z",
     "iopub.status.busy": "2023-12-31T03:14:08.295256Z",
     "iopub.status.idle": "2023-12-31T03:14:08.575964Z",
     "shell.execute_reply": "2023-12-31T03:14:08.574988Z"
    },
    "papermill": {
     "duration": 0.305321,
     "end_time": "2023-12-31T03:14:08.578142",
     "exception": false,
     "start_time": "2023-12-31T03:14:08.272821",
     "status": "completed"
    },
    "tags": []
   },
   "outputs": [
    {
     "data": {
      "image/png": "[encoded data removed]",
      "text/plain": [
       "<Figure size 1200x600 with 1 Axes>"
      ]
     },
     "metadata": {},
     "output_type": "display_data"
    }
   ],
   "source": [
    "avg_salary_by_size = df.groupby(\"company_size\")[\"salary_in_usd\"].mean().reset_index()\n",
    "\n",
    "# Create a grouped bar plot\n",
    "plt.figure(figsize=(12, 6))\n",
    "plt.bar(avg_salary_by_size.index, avg_salary_by_size['salary_in_usd'], color='skyblue', label='Average Salary')\n",
    "plt.xlabel('Company Size')\n",
    "plt.ylabel('Average Salary (USD)')\n",
    "plt.title('Average Salary by Company Size')\n",
    "plt.xticks(avg_salary_by_size.index, avg_salary_by_size['company_size'], rotation=45, ha=\"right\")\n",
    "plt.legend()\n",
    "plt.show()"
   ]
  },
  {
   "cell_type": "markdown",
   "id": "4baa6b3d",
   "metadata": {
    "papermill": {
     "duration": 0.012843,
     "end_time": "2023-12-31T03:14:08.603929",
     "exception": false,
     "start_time": "2023-12-31T03:14:08.591086",
     "status": "completed"
    },
    "tags": []
   },
   "source": [
    "## Simple dashboard"
   ]
  },
  {
   "cell_type": "code",
   "execution_count": 44,
   "id": "ddddc7bc",
   "metadata": {
    "execution": {
     "iopub.execute_input": "2023-12-31T03:14:08.632180Z",
     "iopub.status.busy": "2023-12-31T03:14:08.631759Z",
     "iopub.status.idle": "2023-12-31T03:14:08.640659Z",
     "shell.execute_reply": "2023-12-31T03:14:08.639323Z"
    },
    "jupyter": {
     "source_hidden": true
    },
    "papermill": {
     "duration": 0.025492,
     "end_time": "2023-12-31T03:14:08.642960",
     "exception": false,
     "start_time": "2023-12-31T03:14:08.617468",
     "status": "completed"
    },
    "tags": []
   },
   "outputs": [
    {
     "data": {
      "text/html": [
       "<div class='tableauPlaceholder' id='viz1694604063858' style='position: relative'><noscript><a href='#'><img alt='Dashboard 3 ' src='https:&#47;&#47;public.tableau.com&#47;static&#47;images&#47;Bo&#47;Book_16942609281800&#47;Dashboard3&#47;1_rss.png' style='border: none' /></a></noscript><object class='tableauViz'  style='display:none;'><param name='host_url' value='https%3A%2F%2Fpublic.tableau.com%2F' /> <param name='embed_code_version' value='3' /> <param name='site_root' value='' /><param name='name' value='Book_16942609281800&#47;Dashboard3' /><param name='tabs' value='no' /><param name='toolbar' value='yes' /><param name='static_image' value='https:&#47;&#47;public.tableau.com&#47;static&#47;images&#47;Bo&#47;Book_16942609281800&#47;Dashboard3&#47;1.png' /> <param name='animate_transition' value='yes' /><param name='display_static_image' value='yes' /><param name='display_spinner' value='yes' /><param name='display_overlay' value='yes' /><param name='display_count' value='yes' /><param name='language' value='en-US' /></object></div>                <script type='text/javascript'>                    var divElement = document.getElementById('viz1694604063858');                    var vizElement = divElement.getElementsByTagName('object')[0];                    if ( divElement.offsetWidth > 800 ) { vizElement.style.width='1200px';vizElement.style.minHeight='587px';vizElement.style.maxHeight='887px';vizElement.style.height=(divElement.offsetWidth*0.75)+'px';} else if ( divElement.offsetWidth > 500 ) { vizElement.style.width='1200px';vizElement.style.minHeight='587px';vizElement.style.maxHeight='887px';vizElement.style.height=(divElement.offsetWidth*0.75)+'px';} else { vizElement.style.width='100%';vizElement.style.height='977px';}                     var scriptElement = document.createElement('script');                    scriptElement.src = 'https://public.tableau.com/javascripts/api/viz_v1.js';                    vizElement.parentNode.insertBefore(scriptElement, vizElement);                </script>\n"
      ],
      "text/plain": [
       "<IPython.core.display.HTML object>"
      ]
     },
     "metadata": {},
     "output_type": "display_data"
    }
   ],
   "source": [
    "%%HTML\n",
    "<div class='tableauPlaceholder' id='viz1694604063858' style='position: relative'><noscript><a href='#'><img alt='Dashboard 3 ' src='https:&#47;&#47;public.tableau.com&#47;static&#47;images&#47;Bo&#47;Book_16942609281800&#47;Dashboard3&#47;1_rss.png' style='border: none' /></a></noscript><object class='tableauViz'  style='display:none;'><param name='host_url' value='https%3A%2F%2Fpublic.tableau.com%2F' /> <param name='embed_code_version' value='3' /> <param name='site_root' value='' /><param name='name' value='Book_16942609281800&#47;Dashboard3' /><param name='tabs' value='no' /><param name='toolbar' value='yes' /><param name='static_image' value='https:&#47;&#47;public.tableau.com&#47;static&#47;images&#47;Bo&#47;Book_16942609281800&#47;Dashboard3&#47;1.png' /> <param name='animate_transition' value='yes' /><param name='display_static_image' value='yes' /><param name='display_spinner' value='yes' /><param name='display_overlay' value='yes' /><param name='display_count' value='yes' /><param name='language' value='en-US' /></object></div>                <script type='text/javascript'>                    var divElement = document.getElementById('viz1694604063858');                    var vizElement = divElement.getElementsByTagName('object')[0];                    if ( divElement.offsetWidth > 800 ) { vizElement.style.width='1200px';vizElement.style.minHeight='587px';vizElement.style.maxHeight='887px';vizElement.style.height=(divElement.offsetWidth*0.75)+'px';} else if ( divElement.offsetWidth > 500 ) { vizElement.style.width='1200px';vizElement.style.minHeight='587px';vizElement.style.maxHeight='887px';vizElement.style.height=(divElement.offsetWidth*0.75)+'px';} else { vizElement.style.width='100%';vizElement.style.height='977px';}                     var scriptElement = document.createElement('script');                    scriptElement.src = 'https://public.tableau.com/javascripts/api/viz_v1.js';                    vizElement.parentNode.insertBefore(scriptElement, vizElement);                </script>"
   ]
  },
  {
   "cell_type": "code",
   "execution_count": null,
   "id": "c76b0a61",
   "metadata": {},
   "outputs": [],
   "source": []
  }
 ],
 "metadata": {
  "kaggle": {
   "accelerator": "none",
   "dataSources": [
    {
     "datasetId": 3601047,
     "sourceId": 6264882,
     "sourceType": "datasetVersion"
    }
   ],
   "dockerImageVersionId": 30527,
   "isGpuEnabled": false,
   "isInternetEnabled": true,
   "language": "python",
   "sourceType": "notebook"
  },
  "kernelspec": {
   "display_name": "Python 3",
   "language": "python",
   "name": "python3"
  },
  "language_info": {
   "codemirror_mode": {
    "name": "ipython",
    "version": 3
   },
   "file_extension": ".py",
   "mimetype": "text/x-python",
   "name": "python",
   "nbconvert_exporter": "python",
   "pygments_lexer": "ipython3",
   "version": "3.12.3"
  },
  "papermill": {
   "default_parameters": {},
   "duration": 15.956186,
   "end_time": "2023-12-31T03:14:09.677862",
   "environment_variables": {},
   "exception": null,
   "input_path": "__notebook__.ipynb",
   "output_path": "__notebook__.ipynb",
   "parameters": {},
   "start_time": "2023-12-31T03:13:53.721676",
   "version": "2.4.0"
  }
 },
 "nbformat": 4,
 "nbformat_minor": 5
}
